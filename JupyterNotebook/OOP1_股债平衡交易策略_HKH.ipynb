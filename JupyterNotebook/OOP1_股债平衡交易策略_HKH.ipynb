{
 "cells": [
  {
   "cell_type": "markdown",
   "metadata": {},
   "source": [
    "## 股债平衡交易策略—面向对象 & 仓位控制"
   ]
  },
  {
   "cell_type": "code",
   "execution_count": 1,
   "metadata": {
    "collapsed": true
   },
   "outputs": [],
   "source": [
    "import tushare as  ts\n",
    "import pandas as pd\n",
    "import matplotlib.pyplot as plt\n",
    "import seaborn\n",
    "%matplotlib.inline\n",
    "\n",
    "# 定义 account 类，作用是根据每日两种资产的回报率计算账户净值，并记录净值和调仓记录\n",
    "class Account():\n",
    "    \"\"\"\n",
    "    Account 类定义，模拟账户的各种行为\n",
    "    \"\"\"\n",
    "    def __init__(self, stock=0.5, bond=0.5, rebalance_ratio=0.55):\n",
    "        \"\"\"\n",
    "        类初始化函数，记录初始账户股票和债券的比例以及账户净值\n",
    "        初始账户净值为1\n",
    "        :param stock: 股票比例\n",
    "        :param bond: 债券比例\n",
    "        \"\"\"\n",
    "        self.stock_ratio = stock       # 股票资产比例\n",
    "        self.bond_ratio = bond         # 债券资产比例\n",
    "        self.balance_ratio = {'stock': stock, 'bond':bond}  # 调仓后的目标比例，此处与初始值相同\n",
    "        self.rebalance_threshold = rebalance_ratio          # 调仓阈值\n",
    "        self.net_value = 1             # 初始账户净值\n",
    "        self.rebalance_record = {}     # 记录策略调仓记录，检查用途；\n",
    "        self.balance = {}              # 记录账户策略表现净值\n",
    "\n",
    "\n",
    "    def rebalance(self):\n",
    "        \"\"\"\n",
    "        账户再平衡，将股票和债券比例调整回目标比例\n",
    "        ：return:\n",
    "        \"\"\"\n",
    "        self.stock_ratio = self.balance_ratio['stock']\n",
    "        self.bond_ratio = self.balance_ratio['bond']\n",
    "\n",
    "\n",
    "    def update_ratio(self, daily_series):\n",
    "        \"\"\"\n",
    "        根据每日收益率数据更新股票和债券持仓比例和策略净值；\n",
    "        :param daily_series: 每日两种资产的收益率，pandas series\n",
    "        :return:\n",
    "        \"\"\"\n",
    "        # 股票资产的净值\n",
    "        stock_net = self.stock_ratio * self.net_value * (1 + daily_series['stock'])\n",
    "        # 债券资产的净值\n",
    "        bond_net = self.bond_ratio * self.net_value * (1 + daily_series['bond'])\n",
    "        # 更新账户总体净值,股票比例，债券比例\n",
    "        self.net_value = stock_net + bond_net\n",
    "        self.stock_ratio = stock_net / self.net_value          #更新股票仓位比例；\n",
    "        self.bond_ratio = bond_net / self.net_value            #更新债券仓位比例；\n",
    "        # 记录收益进来之后的更新后的账户净值\n",
    "        self.balance[daily_series.name] = self.net_value\n",
    "\n",
    "\n",
    "    def check_rebalance(self):\n",
    "        \"\"\"\n",
    "        检查账户是否需要再平衡\n",
    "        :return: 任何一种资产超过 rebalance_ratio 返回 True\n",
    "        \"\"\"\n",
    "        return (self.stock_ratio >= self.rebalance_threshold) \\\n",
    "               or (self.bond_ratio >= self.rebalance_threshold)\n",
    "\n",
    "\n",
    "    def data_in(self, daily_series):\n",
    "        \"\"\"\n",
    "        是我们策略的主逻辑；\n",
    "        处理每天进来的新数据；\n",
    "        根据当日涨跌幅数据计算账户变动\n",
    "        此方法设计作为参数传递给pandas.apply()函数\n",
    "        :param daily_series: series，单日股票和债券资产收益率，index为['stock','bond']\n",
    "        :return: 返回与 daily_series 结构相同的 series，分别是stock 和 bond 比例更新以后的结果\n",
    "        \"\"\"\n",
    "        # 更新股债资产持仓比例和账户净值，记录账户净值\n",
    "        self.update_ratio(daily_series)\n",
    "        # 检查是否 rebalance\n",
    "        if self.check_rebalance():\n",
    "            # 记录调仓日期和调仓前的股票债券比例\n",
    "            self.rebalance_record[daily_series.name] = \\\n",
    "                {'stock': self.stock_ratio, 'bond': self.bond_ratio}\n",
    "            # 调仓到目标比例\n",
    "            self.rebalance()\n",
    "        else:\n",
    "            pass\n",
    "\n",
    "        return pd.Series({'stock': self.stock_ratio, 'bond': self.bond_ratio},\n",
    "                         name=daily_series.name)"
   ]
  },
  {
   "cell_type": "code",
   "execution_count": 2,
   "metadata": {},
   "outputs": [
    {
     "data": {
      "text/html": [
       "<div>\n",
       "<style>\n",
       "    .dataframe thead tr:only-child th {\n",
       "        text-align: right;\n",
       "    }\n",
       "\n",
       "    .dataframe thead th {\n",
       "        text-align: left;\n",
       "    }\n",
       "\n",
       "    .dataframe tbody tr th {\n",
       "        vertical-align: top;\n",
       "    }\n",
       "</style>\n",
       "<table border=\"1\" class=\"dataframe\">\n",
       "  <thead>\n",
       "    <tr style=\"text-align: right;\">\n",
       "      <th></th>\n",
       "      <th>stock</th>\n",
       "      <th>bond</th>\n",
       "    </tr>\n",
       "  </thead>\n",
       "  <tbody>\n",
       "    <tr>\n",
       "      <th>2013-03-26</th>\n",
       "      <td>-0.003966</td>\n",
       "      <td>0.002424</td>\n",
       "    </tr>\n",
       "    <tr>\n",
       "      <th>2013-03-27</th>\n",
       "      <td>0.001138</td>\n",
       "      <td>-0.000241</td>\n",
       "    </tr>\n",
       "    <tr>\n",
       "      <th>2013-03-28</th>\n",
       "      <td>-0.028125</td>\n",
       "      <td>0.001064</td>\n",
       "    </tr>\n",
       "    <tr>\n",
       "      <th>2013-03-29</th>\n",
       "      <td>0.000585</td>\n",
       "      <td>0.001023</td>\n",
       "    </tr>\n",
       "    <tr>\n",
       "      <th>2013-04-01</th>\n",
       "      <td>0.008472</td>\n",
       "      <td>0.001121</td>\n",
       "    </tr>\n",
       "  </tbody>\n",
       "</table>\n",
       "</div>"
      ],
      "text/plain": [
       "               stock      bond\n",
       "2013-03-26 -0.003966  0.002424\n",
       "2013-03-27  0.001138 -0.000241\n",
       "2013-03-28 -0.028125  0.001064\n",
       "2013-03-29  0.000585  0.001023\n",
       "2013-04-01  0.008472  0.001121"
      ]
     },
     "execution_count": 2,
     "metadata": {},
     "output_type": "execute_result"
    }
   ],
   "source": [
    "# 读取资产收益率，分别用 159922 嘉实中证500ETF 和 511010 国泰上证5年期ETF\n",
    "change = pd.read_csv('data/fund_change.csv', index_col=0).dropna()\n",
    "change.columns = ['stock', 'bond']\n",
    "change.head()"
   ]
  },
  {
   "cell_type": "code",
   "execution_count": 3,
   "metadata": {},
   "outputs": [
    {
     "data": {
      "text/html": [
       "<div>\n",
       "<style>\n",
       "    .dataframe thead tr:only-child th {\n",
       "        text-align: right;\n",
       "    }\n",
       "\n",
       "    .dataframe thead th {\n",
       "        text-align: left;\n",
       "    }\n",
       "\n",
       "    .dataframe tbody tr th {\n",
       "        vertical-align: top;\n",
       "    }\n",
       "</style>\n",
       "<table border=\"1\" class=\"dataframe\">\n",
       "  <thead>\n",
       "    <tr style=\"text-align: right;\">\n",
       "      <th></th>\n",
       "      <th>stock</th>\n",
       "      <th>bond</th>\n",
       "    </tr>\n",
       "  </thead>\n",
       "  <tbody>\n",
       "    <tr>\n",
       "      <th>2017-07-26</th>\n",
       "      <td>-0.002390</td>\n",
       "      <td>0.000036</td>\n",
       "    </tr>\n",
       "    <tr>\n",
       "      <th>2017-07-27</th>\n",
       "      <td>0.007827</td>\n",
       "      <td>0.000255</td>\n",
       "    </tr>\n",
       "    <tr>\n",
       "      <th>2017-07-28</th>\n",
       "      <td>0.005706</td>\n",
       "      <td>0.000036</td>\n",
       "    </tr>\n",
       "    <tr>\n",
       "      <th>2017-07-31</th>\n",
       "      <td>0.011820</td>\n",
       "      <td>0.000036</td>\n",
       "    </tr>\n",
       "    <tr>\n",
       "      <th>2017-08-01</th>\n",
       "      <td>-0.001558</td>\n",
       "      <td>0.000766</td>\n",
       "    </tr>\n",
       "  </tbody>\n",
       "</table>\n",
       "</div>"
      ],
      "text/plain": [
       "               stock      bond\n",
       "2017-07-26 -0.002390  0.000036\n",
       "2017-07-27  0.007827  0.000255\n",
       "2017-07-28  0.005706  0.000036\n",
       "2017-07-31  0.011820  0.000036\n",
       "2017-08-01 -0.001558  0.000766"
      ]
     },
     "execution_count": 3,
     "metadata": {},
     "output_type": "execute_result"
    }
   ],
   "source": [
    "change.tail()"
   ]
  },
  {
   "cell_type": "code",
   "execution_count": 4,
   "metadata": {},
   "outputs": [
    {
     "data": {
      "text/plain": [
       "['2013-03-26', '2017-08-01']"
      ]
     },
     "execution_count": 4,
     "metadata": {},
     "output_type": "execute_result"
    }
   ],
   "source": [
    "# 获取测试起止时间\n",
    "test_range = [change.index[0], change.index[-1]]\n",
    "test_range"
   ]
  },
  {
   "cell_type": "code",
   "execution_count": 5,
   "metadata": {},
   "outputs": [],
   "source": [
    "# 创建 Account 对象，使用默认的股债 50% vs 50% 比例，调仓门槛 55%\n",
    "account = Account()"
   ]
  },
  {
   "cell_type": "code",
   "execution_count": 6,
   "metadata": {},
   "outputs": [
    {
     "data": {
      "text/html": [
       "<div>\n",
       "<style>\n",
       "    .dataframe thead tr:only-child th {\n",
       "        text-align: right;\n",
       "    }\n",
       "\n",
       "    .dataframe thead th {\n",
       "        text-align: left;\n",
       "    }\n",
       "\n",
       "    .dataframe tbody tr th {\n",
       "        vertical-align: top;\n",
       "    }\n",
       "</style>\n",
       "<table border=\"1\" class=\"dataframe\">\n",
       "  <thead>\n",
       "    <tr style=\"text-align: right;\">\n",
       "      <th></th>\n",
       "      <th>bond</th>\n",
       "      <th>stock</th>\n",
       "    </tr>\n",
       "  </thead>\n",
       "  <tbody>\n",
       "    <tr>\n",
       "      <th>2013-03-26</th>\n",
       "      <td>0.503198</td>\n",
       "      <td>0.496802</td>\n",
       "    </tr>\n",
       "    <tr>\n",
       "      <th>2013-03-27</th>\n",
       "      <td>0.502853</td>\n",
       "      <td>0.497147</td>\n",
       "    </tr>\n",
       "    <tr>\n",
       "      <th>2013-03-28</th>\n",
       "      <td>0.510250</td>\n",
       "      <td>0.489750</td>\n",
       "    </tr>\n",
       "    <tr>\n",
       "      <th>2013-03-29</th>\n",
       "      <td>0.510359</td>\n",
       "      <td>0.489641</td>\n",
       "    </tr>\n",
       "    <tr>\n",
       "      <th>2013-04-01</th>\n",
       "      <td>0.508531</td>\n",
       "      <td>0.491469</td>\n",
       "    </tr>\n",
       "  </tbody>\n",
       "</table>\n",
       "</div>"
      ],
      "text/plain": [
       "                bond     stock\n",
       "2013-03-26  0.503198  0.496802\n",
       "2013-03-27  0.502853  0.497147\n",
       "2013-03-28  0.510250  0.489750\n",
       "2013-03-29  0.510359  0.489641\n",
       "2013-04-01  0.508531  0.491469"
      ]
     },
     "execution_count": 6,
     "metadata": {},
     "output_type": "execute_result"
    }
   ],
   "source": [
    "# 对收益率数据调用 account.data_in() 方法，每日资产比例变化结果存入 portfolio_ratio 变量\n",
    "portfolio_ratio = change.apply(account.data_in, axis=1)\n",
    "portfolio_ratio.head()"
   ]
  },
  {
   "cell_type": "code",
   "execution_count": 9,
   "metadata": {},
   "outputs": [
    {
     "data": {
      "text/html": [
       "<div>\n",
       "<style>\n",
       "    .dataframe thead tr:only-child th {\n",
       "        text-align: right;\n",
       "    }\n",
       "\n",
       "    .dataframe thead th {\n",
       "        text-align: left;\n",
       "    }\n",
       "\n",
       "    .dataframe tbody tr th {\n",
       "        vertical-align: top;\n",
       "    }\n",
       "</style>\n",
       "<table border=\"1\" class=\"dataframe\">\n",
       "  <thead>\n",
       "    <tr style=\"text-align: right;\">\n",
       "      <th></th>\n",
       "      <th>bond</th>\n",
       "      <th>stock</th>\n",
       "    </tr>\n",
       "  </thead>\n",
       "  <tbody>\n",
       "    <tr>\n",
       "      <th>2014-08-11</th>\n",
       "      <td>0.449936</td>\n",
       "      <td>0.550064</td>\n",
       "    </tr>\n",
       "    <tr>\n",
       "      <th>2014-12-15</th>\n",
       "      <td>0.449297</td>\n",
       "      <td>0.550703</td>\n",
       "    </tr>\n",
       "    <tr>\n",
       "      <th>2015-03-23</th>\n",
       "      <td>0.449570</td>\n",
       "      <td>0.550430</td>\n",
       "    </tr>\n",
       "    <tr>\n",
       "      <th>2015-05-13</th>\n",
       "      <td>0.448173</td>\n",
       "      <td>0.551827</td>\n",
       "    </tr>\n",
       "    <tr>\n",
       "      <th>2015-06-02</th>\n",
       "      <td>0.444598</td>\n",
       "      <td>0.555402</td>\n",
       "    </tr>\n",
       "    <tr>\n",
       "      <th>2015-06-26</th>\n",
       "      <td>0.552955</td>\n",
       "      <td>0.447045</td>\n",
       "    </tr>\n",
       "    <tr>\n",
       "      <th>2015-07-03</th>\n",
       "      <td>0.551217</td>\n",
       "      <td>0.448783</td>\n",
       "    </tr>\n",
       "    <tr>\n",
       "      <th>2015-07-08</th>\n",
       "      <td>0.551194</td>\n",
       "      <td>0.448806</td>\n",
       "    </tr>\n",
       "    <tr>\n",
       "      <th>2015-07-13</th>\n",
       "      <td>0.427568</td>\n",
       "      <td>0.572432</td>\n",
       "    </tr>\n",
       "    <tr>\n",
       "      <th>2015-08-25</th>\n",
       "      <td>0.566632</td>\n",
       "      <td>0.433368</td>\n",
       "    </tr>\n",
       "    <tr>\n",
       "      <th>2015-11-11</th>\n",
       "      <td>0.448945</td>\n",
       "      <td>0.551055</td>\n",
       "    </tr>\n",
       "    <tr>\n",
       "      <th>2016-01-12</th>\n",
       "      <td>0.553977</td>\n",
       "      <td>0.446023</td>\n",
       "    </tr>\n",
       "  </tbody>\n",
       "</table>\n",
       "</div>"
      ],
      "text/plain": [
       "                bond     stock\n",
       "2014-08-11  0.449936  0.550064\n",
       "2014-12-15  0.449297  0.550703\n",
       "2015-03-23  0.449570  0.550430\n",
       "2015-05-13  0.448173  0.551827\n",
       "2015-06-02  0.444598  0.555402\n",
       "2015-06-26  0.552955  0.447045\n",
       "2015-07-03  0.551217  0.448783\n",
       "2015-07-08  0.551194  0.448806\n",
       "2015-07-13  0.427568  0.572432\n",
       "2015-08-25  0.566632  0.433368\n",
       "2015-11-11  0.448945  0.551055\n",
       "2016-01-12  0.553977  0.446023"
      ]
     },
     "execution_count": 9,
     "metadata": {},
     "output_type": "execute_result"
    }
   ],
   "source": [
    "# 从 account 中读取调仓记录，可以看到至少有一个是超过55%的比例的；\n",
    "rebalance_record = pd.DataFrame(account.rebalance_record).T\n",
    "rebalance_record"
   ]
  },
  {
   "cell_type": "code",
   "execution_count": 11,
   "metadata": {},
   "outputs": [
    {
     "data": {
      "text/plain": [
       "bond     0.5\n",
       "stock    0.5\n",
       "Name: 2014-12-15, dtype: float64"
      ]
     },
     "execution_count": 11,
     "metadata": {},
     "output_type": "execute_result"
    }
   ],
   "source": [
    "portfolio_ratio.loc['2014-12-15']"
   ]
  },
  {
   "cell_type": "code",
   "execution_count": 12,
   "metadata": {},
   "outputs": [
    {
     "data": {
      "text/plain": [
       "2013-03-26    0.998469\n",
       "2013-03-27    0.998912\n",
       "2013-03-28    0.985480\n",
       "2013-03-29    0.986276\n",
       "2013-04-01    0.990932\n",
       "Name: strategy, dtype: float64"
      ]
     },
     "execution_count": 12,
     "metadata": {},
     "output_type": "execute_result"
    }
   ],
   "source": [
    "# 从 account 中读取账户净值\n",
    "net_value = pd.Series(account.balance, name='strategy')\n",
    "net_value.head()"
   ]
  },
  {
   "cell_type": "code",
   "execution_count": 13,
   "metadata": {},
   "outputs": [
    {
     "data": {
      "text/plain": [
       "date\n",
       "2013-03-26    0.985439\n",
       "2013-03-27    0.988684\n",
       "2013-03-28    0.956450\n",
       "2013-03-29    0.954835\n",
       "2013-04-01    0.954112\n",
       "Name: hs300, dtype: float64"
      ]
     },
     "execution_count": 13,
     "metadata": {},
     "output_type": "execute_result"
    }
   ],
   "source": [
    "## 计算benchmark收益率\n",
    "# 从 tushare 获取沪深300收盘数据\n",
    "hs300 = ts.get_k_data('hs300',start ='2013-01-01', end = '2017-08-01').set_index('date')['close']\n",
    "# 计算日涨跌幅\n",
    "hs300 = (hs300 - hs300.shift(1))/hs300.shift(1)\n",
    "# 修改 series.name ，pd.concat时可以直接转为列名称\n",
    "hs300.name = 'hs300'\n",
    "# 截取测试对应时间段数据\n",
    "hs300 = hs300[(hs300.index >= test_range[0]) & (hs300.index <= test_range[1])]\n",
    "# 计算累计收益\n",
    "hs300 = (hs300 + 1).cumprod()\n",
    "hs300.head()"
   ]
  },
  {
   "cell_type": "code",
   "execution_count": 14,
   "metadata": {},
   "outputs": [
    {
     "data": {
      "image/png": "[encoded data removed]",
      "text/plain": [
       "<matplotlib.figure.Figure at 0x1f613b29080>"
      ]
     },
     "metadata": {},
     "output_type": "display_data"
    }
   ],
   "source": [
    "# 形成净值曲线\n",
    "returns= pd.concat([net_value, hs300], axis=1)\n",
    "returns.plot(figsize=(13,9))\n",
    "plt.show()"
   ]
  }
 ],
 "metadata": {
  "kernelspec": {
   "display_name": "Python 3",
   "language": "python",
   "name": "python3"
  },
  "language_info": {
   "codemirror_mode": {
    "name": "ipython",
    "version": 3
   },
   "file_extension": ".py",
   "mimetype": "text/x-python",
   "name": "python",
   "nbconvert_exporter": "python",
   "pygments_lexer": "ipython3",
   "version": "3.7.1"
  }
 },
 "nbformat": 4,
 "nbformat_minor": 1
}
